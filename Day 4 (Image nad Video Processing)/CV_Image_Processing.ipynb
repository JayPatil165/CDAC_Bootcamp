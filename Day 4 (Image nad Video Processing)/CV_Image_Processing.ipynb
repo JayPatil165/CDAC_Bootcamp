{
 "cells": [
  {
   "cell_type": "code",
   "execution_count": 4,
   "metadata": {},
   "outputs": [],
   "source": [
    "import cv2"
   ]
  },
  {
   "cell_type": "code",
   "execution_count": 5,
   "metadata": {},
   "outputs": [
    {
     "name": "stdout",
     "output_type": "stream",
     "text": [
      "4.10.0\n"
     ]
    }
   ],
   "source": [
    "print(cv2.__version__)"
   ]
  },
  {
   "cell_type": "code",
   "execution_count": 6,
   "metadata": {},
   "outputs": [],
   "source": [
    "image = cv2.imread(\"C:\\\\Users\\\\HP\\\\Desktop\\\\CDAC AI Bootcamb\\\\Day 4 (Image nad Video Processing)\\\\Image.jpeg\")\n",
    "cv2.imshow(\"Image\", image)\n",
    "cv2.waitKey(0)\n",
    "cv2.destroyAllWindows()"
   ]
  },
  {
   "cell_type": "code",
   "execution_count": 7,
   "metadata": {},
   "outputs": [
    {
     "data": {
      "text/plain": [
       "(1280, 849, 3)"
      ]
     },
     "execution_count": 7,
     "metadata": {},
     "output_type": "execute_result"
    }
   ],
   "source": [
    "image.shape"
   ]
  },
  {
   "cell_type": "code",
   "execution_count": 8,
   "metadata": {},
   "outputs": [],
   "source": [
    "resized_image = cv2.resize(image,(400,600)) # Kept in proportion to hold actual shape.\n",
    "cv2.imshow(\"Resized Image\", resized_image)\n",
    "cv2.waitKey(0)\n",
    "cv2.destroyAllWindows()"
   ]
  },
  {
   "cell_type": "code",
   "execution_count": 9,
   "metadata": {},
   "outputs": [],
   "source": [
    "gray_image = cv2.cvtColor(resized_image,cv2.COLOR_BGR2GRAY)\n",
    "cv2.imshow('Gray Image',gray_image)\n",
    "cv2.waitKey(0)\n",
    "cv2.destroyAllWindows()"
   ]
  },
  {
   "cell_type": "code",
   "execution_count": 10,
   "metadata": {},
   "outputs": [
    {
     "data": {
      "text/plain": [
       "(600, 400)"
      ]
     },
     "execution_count": 10,
     "metadata": {},
     "output_type": "execute_result"
    }
   ],
   "source": [
    "gray_image.shape # We used the resized image thus the shape remains."
   ]
  },
  {
   "cell_type": "code",
   "execution_count": 11,
   "metadata": {},
   "outputs": [],
   "source": [
    "cropped_image = resized_image[100:200,100:400]\n",
    "cv2.imshow('Cropped Image',cropped_image)\n",
    "cv2.waitKey(0)\n",
    "cv2.destroyAllWindows()"
   ]
  },
  {
   "cell_type": "code",
   "execution_count": 12,
   "metadata": {},
   "outputs": [],
   "source": [
    "# Rotating an Image (custom rotation around the centre)\n",
    "(h,w) = resized_image.shape[:2]\n",
    "center = (w // 2,h // 2)\n",
    "M = cv2.getRotationMatrix2D(center,37,1.0)\n",
    "roted_image = cv2.warpAffine(resized_image,M,(w,h))\n",
    "cv2.imshow('Roated Image',roted_image)\n",
    "cv2.waitKey(0)\n",
    "cv2.destroyAllWindows()\n"
   ]
  },
  {
   "cell_type": "code",
   "execution_count": 13,
   "metadata": {},
   "outputs": [],
   "source": [
    "# Default (limited) rotation\n",
    "roted_image = cv2.rotate(resized_image,cv2.ROTATE_90_CLOCKWISE)\n",
    "cv2.imshow('Roated Image',roted_image)\n",
    "cv2.waitKey(0)\n",
    "cv2.destroyAllWindows()"
   ]
  },
  {
   "cell_type": "code",
   "execution_count": 14,
   "metadata": {},
   "outputs": [],
   "source": [
    "blured_image = cv2.GaussianBlur(resized_image,(5,5),0)\n",
    "cv2.imshow('Gausian Bulred Image',blured_image)\n",
    "cv2.waitKey(0)\n",
    "cv2.destroyAllWindows()"
   ]
  },
  {
   "cell_type": "code",
   "execution_count": 15,
   "metadata": {},
   "outputs": [],
   "source": [
    "median_blured_image = cv2.medianBlur(resized_image,5)\n",
    "cv2.imshow('Median Bulred Image',median_blured_image)\n",
    "cv2.waitKey(0)\n",
    "cv2.destroyAllWindows()\n"
   ]
  },
  {
   "cell_type": "code",
   "execution_count": 16,
   "metadata": {},
   "outputs": [],
   "source": [
    "bilateral_blured_image = cv2.bilateralFilter(resized_image,9,75,75)\n",
    "cv2.imshow('Bilateral Bulred Image',bilateral_blured_image)\n",
    "cv2.waitKey(0)\n",
    "cv2.destroyAllWindows()\n",
    "# Blurs layers"
   ]
  },
  {
   "cell_type": "code",
   "execution_count": 17,
   "metadata": {},
   "outputs": [],
   "source": [
    "average_blured_image = cv2.blur(resized_image,(5,5))\n",
    "cv2.imshow('Average Bulred Image',average_blured_image)\n",
    "cv2.waitKey(0)\n",
    "cv2.destroyAllWindows()\n",
    "# Blurs total image"
   ]
  },
  {
   "cell_type": "code",
   "execution_count": 18,
   "metadata": {},
   "outputs": [],
   "source": [
    "#Thresholding\n",
    "# Binary threshold\n",
    "_, thres_image = cv2.threshold(gray_image,127,255,cv2.THRESH_BINARY)\n",
    "cv2.imshow('Binary Threshold Image',thres_image)\n",
    "cv2.waitKey(0)\n",
    "cv2.destroyAllWindows()\n"
   ]
  },
  {
   "cell_type": "code",
   "execution_count": 19,
   "metadata": {},
   "outputs": [],
   "source": [
    "# Inverse Binary Threshold\n",
    "_,thres_in_image = cv2.threshold(gray_image,127,255,cv2.THRESH_BINARY_INV)\n",
    "cv2.imshow('Inverse Binary Threshold Image',thres_in_image)\n",
    "cv2.waitKey(0)\n",
    "cv2.destroyAllWindows()"
   ]
  },
  {
   "cell_type": "code",
   "execution_count": 20,
   "metadata": {},
   "outputs": [],
   "source": [
    "# Trunc Threshold\n",
    "_,trunc_thres_image = cv2.threshold(gray_image,127,255,cv2.THRESH_TRUNC)\n",
    "cv2.imshow('Trunc Threshold Image',trunc_thres_image)\n",
    "cv2.waitKey(0)\n",
    "cv2.destroyAllWindows()"
   ]
  },
  {
   "cell_type": "code",
   "execution_count": 21,
   "metadata": {},
   "outputs": [],
   "source": [
    "# Zero Thresholding\n",
    "_,zero_thresh_image = cv2.threshold(gray_image,127,255,cv2.THRESH_TOZERO)\n",
    "cv2.imshow('Zero Threshold Image',zero_thresh_image)\n",
    "cv2.waitKey(0)\n",
    "cv2.destroyAllWindows()"
   ]
  },
  {
   "cell_type": "code",
   "execution_count": 22,
   "metadata": {},
   "outputs": [],
   "source": [
    "# Inverse Zero Thresholding\n",
    "_,inv_zero_thresh_image = cv2.threshold(gray_image,127,255,cv2.THRESH_TOZERO_INV)\n",
    "cv2.imshow('Inverse Zero Image',inv_zero_thresh_image)\n",
    "cv2.waitKey(0)\n",
    "cv2.destroyAllWindows()"
   ]
  },
  {
   "cell_type": "code",
   "execution_count": 23,
   "metadata": {},
   "outputs": [],
   "source": [
    "# Adaptive Thresholding\n",
    "adaptive_image = cv2.adaptiveThreshold(gray_image,255,cv2.ADAPTIVE_THRESH_GAUSSIAN_C,cv2.THRESH_BINARY,11,2)\n",
    "cv2.imshow('Adaptive Threshold Image',adaptive_image)\n",
    "cv2.waitKey(0)\n",
    "cv2.destroyAllWindows()"
   ]
  },
  {
   "cell_type": "code",
   "execution_count": 24,
   "metadata": {},
   "outputs": [],
   "source": [
    "#Edge Detection\n",
    "edges = cv2.Canny(resized_image,200,255)\n",
    "cv2.imshow('Edges',edges)\n",
    "cv2.waitKey(0)\n",
    "cv2.destroyAllWindows()"
   ]
  },
  {
   "cell_type": "code",
   "execution_count": null,
   "metadata": {},
   "outputs": [],
   "source": []
  }
 ],
 "metadata": {
  "kernelspec": {
   "display_name": "Python 3",
   "language": "python",
   "name": "python3"
  },
  "language_info": {
   "codemirror_mode": {
    "name": "ipython",
    "version": 3
   },
   "file_extension": ".py",
   "mimetype": "text/x-python",
   "name": "python",
   "nbconvert_exporter": "python",
   "pygments_lexer": "ipython3",
   "version": "3.12.3"
  }
 },
 "nbformat": 4,
 "nbformat_minor": 2
}
