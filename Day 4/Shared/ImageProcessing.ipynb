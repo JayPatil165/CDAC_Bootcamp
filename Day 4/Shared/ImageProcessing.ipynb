{
 "cells": [
  {
   "cell_type": "code",
   "execution_count": 4,
   "metadata": {
    "dotnet_interactive": {
     "language": "csharp"
    },
    "polyglot_notebook": {
     "kernelName": "csharp"
    }
   },
   "outputs": [],
   "source": [
    "import cv2\n"
   ]
  },
  {
   "cell_type": "code",
   "execution_count": 5,
   "metadata": {},
   "outputs": [
    {
     "name": "stdout",
     "output_type": "stream",
     "text": [
      "4.10.0\n"
     ]
    }
   ],
   "source": [
    "print(cv2.__version__)"
   ]
  },
  {
   "cell_type": "code",
   "execution_count": 6,
   "metadata": {},
   "outputs": [],
   "source": [
    "img = cv2.imread(\"C:\\\\Users\\\\HP\\\\Desktop\\\\CDAC AI Bootcamb\\\\Day 4\\\\Image.jpeg\")\n",
    "cv2.imshow('Image',img)\n",
    "cv2.waitKey(0)\n",
    "cv2.destroyAllWindows()"
   ]
  },
  {
   "cell_type": "code",
   "execution_count": 7,
   "metadata": {},
   "outputs": [],
   "source": [
    "resized_img  = cv2.resize(img,(500,500))\n",
    "cv2.imshow('Resized Image',resized_img)\n",
    "cv2.waitKey(0)\n",
    "cv2.destroyAllWindows()"
   ]
  },
  {
   "cell_type": "code",
   "execution_count": 8,
   "metadata": {},
   "outputs": [],
   "source": [
    "gray_img = cv2.cvtColor(resized_img,cv2.COLOR_BGR2GRAY)\n",
    "cv2.imshow('Gray Image',gray_img)\n",
    "cv2.waitKey(0)\n",
    "cv2.destroyAllWindows()"
   ]
  },
  {
   "cell_type": "code",
   "execution_count": 9,
   "metadata": {},
   "outputs": [
    {
     "data": {
      "text/plain": [
       "(500, 500)"
      ]
     },
     "execution_count": 9,
     "metadata": {},
     "output_type": "execute_result"
    }
   ],
   "source": [
    "gray_img.shape"
   ]
  },
  {
   "cell_type": "code",
   "execution_count": 10,
   "metadata": {},
   "outputs": [],
   "source": [
    "cropped_img = resized_img[100:200,100:400]\n",
    "cv2.imshow('Cropped Image',cropped_img)\n",
    "cv2.waitKey(0)\n",
    "cv2.destroyAllWindows()"
   ]
  },
  {
   "cell_type": "code",
   "execution_count": 11,
   "metadata": {},
   "outputs": [],
   "source": [
    "(h,w) = resized_img.shape[:2]\n",
    "center = (w // 2,h // 2)\n",
    "M = cv2.getRotationMatrix2D(center,37,1.0)\n",
    "roted_img = cv2.warpAffine(resized_img,M,(w,h))\n",
    "cv2.imshow('Roated Image',roted_img)\n",
    "cv2.waitKey(0)\n",
    "cv2.destroyAllWindows()\n"
   ]
  },
  {
   "cell_type": "code",
   "execution_count": 12,
   "metadata": {},
   "outputs": [
    {
     "data": {
      "text/plain": [
       "array([[[ 55,  70,  85],\n",
       "        [ 50,  65,  87],\n",
       "        [ 36,  53,  80],\n",
       "        ...,\n",
       "        [229, 232, 223],\n",
       "        [228, 231, 222],\n",
       "        [227, 230, 221]],\n",
       "\n",
       "       [[ 46,  59,  75],\n",
       "        [ 37,  50,  73],\n",
       "        [ 38,  53,  79],\n",
       "        ...,\n",
       "        [230, 233, 224],\n",
       "        [229, 232, 223],\n",
       "        [229, 232, 223]],\n",
       "\n",
       "       [[ 48,  59,  75],\n",
       "        [ 31,  42,  65],\n",
       "        [ 56,  68,  92],\n",
       "        ...,\n",
       "        [232, 234, 226],\n",
       "        [231, 234, 225],\n",
       "        [230, 233, 224]],\n",
       "\n",
       "       ...,\n",
       "\n",
       "       [[ 44,  55,  77],\n",
       "        [ 46,  57,  78],\n",
       "        [ 49,  60,  80],\n",
       "        ...,\n",
       "        [196, 203, 198],\n",
       "        [194, 201, 196],\n",
       "        [192, 199, 194]],\n",
       "\n",
       "       [[ 45,  56,  78],\n",
       "        [ 47,  58,  79],\n",
       "        [ 47,  58,  78],\n",
       "        ...,\n",
       "        [196, 203, 198],\n",
       "        [194, 201, 196],\n",
       "        [192, 199, 194]],\n",
       "\n",
       "       [[ 44,  53,  75],\n",
       "        [ 45,  54,  76],\n",
       "        [ 43,  54,  74],\n",
       "        ...,\n",
       "        [196, 203, 198],\n",
       "        [194, 201, 196],\n",
       "        [193, 200, 195]]], dtype=uint8)"
      ]
     },
     "execution_count": 12,
     "metadata": {},
     "output_type": "execute_result"
    }
   ],
   "source": [
    "cv2.rotate(resized_img,cv2.ROTATE_90_CLOCKWISE)\n"
   ]
  },
  {
   "cell_type": "code",
   "execution_count": 13,
   "metadata": {},
   "outputs": [],
   "source": [
    "blured_img = cv2.GaussianBlur(resized_img,(5,5),0)\n",
    "cv2.imshow('Gausian Bulred Image',blured_img)\n",
    "cv2.waitKey(0)\n",
    "cv2.destroyAllWindows()"
   ]
  },
  {
   "cell_type": "code",
   "execution_count": 14,
   "metadata": {},
   "outputs": [],
   "source": [
    "median_blured_img = cv2.medianBlur(resized_img,5)\n",
    "cv2.imshow('Median Bulred Image',median_blured_img)\n",
    "cv2.waitKey(0)\n",
    "cv2.destroyAllWindows()\n"
   ]
  },
  {
   "cell_type": "code",
   "execution_count": 15,
   "metadata": {},
   "outputs": [],
   "source": [
    "bilateral_blured_img = cv2.bilateralFilter(resized_img,9,75,75)\n",
    "cv2.imshow('Bilateral Bulred Image',bilateral_blured_img)\n",
    "cv2.waitKey(0)\n",
    "cv2.destroyAllWindows()"
   ]
  },
  {
   "cell_type": "code",
   "execution_count": 16,
   "metadata": {},
   "outputs": [],
   "source": [
    "average_blured_img = cv2.blur(resized_img,(5,5))\n",
    "cv2.imshow('Average Bulred Image',average_blured_img)\n",
    "cv2.waitKey(0)\n",
    "cv2.destroyAllWindows()"
   ]
  },
  {
   "cell_type": "code",
   "execution_count": 17,
   "metadata": {},
   "outputs": [
    {
     "name": "stdout",
     "output_type": "stream",
     "text": [
      "127.0\n"
     ]
    }
   ],
   "source": [
    "_, thres_img = cv2.threshold(gray_img,127,255,cv2.THRESH_BINARY)\n",
    "cv2.imshow('Threshold Image',thres_img)\n",
    "cv2.waitKey(0)\n",
    "cv2.destroyAllWindows()\n",
    "print(_)\n"
   ]
  },
  {
   "cell_type": "code",
   "execution_count": 18,
   "metadata": {},
   "outputs": [
    {
     "name": "stdout",
     "output_type": "stream",
     "text": [
      "127.0\n"
     ]
    }
   ],
   "source": [
    "_,thres_in_img = cv2.threshold(gray_img,127,255,cv2.THRESH_BINARY_INV)\n",
    "cv2.imshow('Threshold Inverse Image',thres_in_img)\n",
    "cv2.waitKey(0)\n",
    "cv2.destroyAllWindows()\n",
    "print(_)"
   ]
  },
  {
   "cell_type": "code",
   "execution_count": 19,
   "metadata": {},
   "outputs": [
    {
     "name": "stdout",
     "output_type": "stream",
     "text": [
      "127.0\n"
     ]
    }
   ],
   "source": [
    "_,thres_in_img = cv2.threshold(gray_img,127,255,cv2.THRESH_TRUNC)\n",
    "cv2.imshow('Threshold Inverse Image',thres_in_img)\n",
    "cv2.waitKey(0)\n",
    "cv2.destroyAllWindows()\n",
    "print(_)"
   ]
  },
  {
   "cell_type": "code",
   "execution_count": 20,
   "metadata": {},
   "outputs": [
    {
     "name": "stdout",
     "output_type": "stream",
     "text": [
      "127.0\n"
     ]
    }
   ],
   "source": [
    "_,thres_in_img = cv2.threshold(gray_img,127,255,cv2.THRESH_TOZERO)\n",
    "cv2.imshow('Threshold Inverse Image',thres_in_img)\n",
    "cv2.waitKey(0)\n",
    "cv2.destroyAllWindows()\n",
    "print(_)"
   ]
  },
  {
   "cell_type": "code",
   "execution_count": 21,
   "metadata": {},
   "outputs": [
    {
     "name": "stdout",
     "output_type": "stream",
     "text": [
      "127.0\n"
     ]
    }
   ],
   "source": [
    "_,thres_in_img = cv2.threshold(gray_img,127,255,cv2.THRESH_TOZERO_INV)\n",
    "cv2.imshow('Threshold Inverse Image',thres_in_img)\n",
    "cv2.waitKey(0)\n",
    "cv2.destroyAllWindows()\n",
    "print(_)"
   ]
  },
  {
   "cell_type": "code",
   "execution_count": 22,
   "metadata": {},
   "outputs": [
    {
     "name": "stdout",
     "output_type": "stream",
     "text": [
      "127.0\n"
     ]
    }
   ],
   "source": [
    "adaptive_img = cv2.adaptiveThreshold(gray_img,255,cv2.ADAPTIVE_THRESH_GAUSSIAN_C,cv2.THRESH_BINARY,11,2)\n",
    "cv2.imshow('Adaptive Threshold Image',adaptive_img)\n",
    "cv2.waitKey(0)\n",
    "cv2.destroyAllWindows()\n",
    "print(_)"
   ]
  },
  {
   "cell_type": "code",
   "execution_count": 23,
   "metadata": {},
   "outputs": [],
   "source": [
    "edges = cv2.Canny(resized_img,200,255)\n",
    "cv2.imshow('Canny Edges',edges)\n",
    "cv2.waitKey(0)\n",
    "cv2.destroyAllWindows()\n"
   ]
  },
  {
   "cell_type": "code",
   "execution_count": null,
   "metadata": {},
   "outputs": [],
   "source": []
  }
 ],
 "metadata": {
  "kernelspec": {
   "display_name": "base",
   "language": "python",
   "name": "python3"
  },
  "language_info": {
   "codemirror_mode": {
    "name": "ipython",
    "version": 3
   },
   "file_extension": ".py",
   "mimetype": "text/x-python",
   "name": "python",
   "nbconvert_exporter": "python",
   "pygments_lexer": "ipython3",
   "version": "3.12.3"
  },
  "polyglot_notebook": {
   "kernelInfo": {
    "defaultKernelName": "csharp",
    "items": [
     {
      "aliases": [],
      "name": "csharp"
     }
    ]
   }
  }
 },
 "nbformat": 4,
 "nbformat_minor": 2
}
