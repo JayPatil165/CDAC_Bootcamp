{
 "cells": [
  {
   "cell_type": "code",
   "execution_count": 2,
   "metadata": {},
   "outputs": [],
   "source": [
    "import numpy as np"
   ]
  },
  {
   "cell_type": "code",
   "execution_count": 2,
   "metadata": {},
   "outputs": [],
   "source": [
    "x = np.array([1,3,4,5,6])"
   ]
  },
  {
   "cell_type": "code",
   "execution_count": 3,
   "metadata": {},
   "outputs": [
    {
     "name": "stdout",
     "output_type": "stream",
     "text": [
      "[1 3 4 5 6]\n"
     ]
    }
   ],
   "source": [
    "print(x)"
   ]
  },
  {
   "cell_type": "code",
   "execution_count": 4,
   "metadata": {},
   "outputs": [
    {
     "name": "stdout",
     "output_type": "stream",
     "text": [
      "<class 'numpy.ndarray'>\n"
     ]
    }
   ],
   "source": [
    "print(type(x))"
   ]
  },
  {
   "cell_type": "code",
   "execution_count": 5,
   "metadata": {},
   "outputs": [
    {
     "name": "stdout",
     "output_type": "stream",
     "text": [
      "[1, 3, 4, 5, 6, 6, 8]\n",
      "<class 'list'>\n"
     ]
    }
   ],
   "source": [
    "y = [1,3,4,5,6,6,8]\n",
    "print(y)\n",
    "print(type(y))  # This is just a list. But the numpy thing creats an array. While is multidimentional."
   ]
  },
  {
   "cell_type": "code",
   "execution_count": 6,
   "metadata": {},
   "outputs": [],
   "source": [
    "# User defined data in numpy\n",
    "l = []\n",
    "for i in range (1,5):\n",
    "    a = input(\"Enter the values:\\n\")\n",
    "    l.append(a)"
   ]
  },
  {
   "cell_type": "code",
   "execution_count": 11,
   "metadata": {},
   "outputs": [
    {
     "name": "stdout",
     "output_type": "stream",
     "text": [
      "[1 3 4 5]\n",
      "1\n"
     ]
    }
   ],
   "source": [
    "#Dimensions in numpy array\n",
    "# Of 3 types:- 1d 2d and 3d arrays\n",
    "arr1 = np.array([1,3,4,5]) #1d array.\n",
    "print(arr1)\n",
    "print  (arr1.ndim) #ndim is n dimension of array. It gives the number of dimensions of array.\n"
   ]
  },
  {
   "cell_type": "code",
   "execution_count": 4,
   "metadata": {},
   "outputs": [
    {
     "name": "stdout",
     "output_type": "stream",
     "text": [
      "[[1 3 4]\n",
      " [5 6 7]]\n",
      "2\n"
     ]
    }
   ],
   "source": [
    "#2 Dimensional array\n",
    "arr2 = np.array([[1,3,4],[5,6,7]])\n",
    "print(arr2)\n",
    "print(arr2.ndim) "
   ]
  },
  {
   "cell_type": "code",
   "execution_count": 5,
   "metadata": {},
   "outputs": [
    {
     "name": "stdout",
     "output_type": "stream",
     "text": [
      "[[1 3 4]\n",
      " [5 6 7]\n",
      " [8 9 0]]\n",
      "2\n"
     ]
    }
   ],
   "source": [
    "#3 Dimensional array\n",
    "arr3 = np.array([[1,3,4],[5,6,7],[8,9,0]])\n",
    "print(arr3)\n",
    "print(arr3.ndim) "
   ]
  },
  {
   "cell_type": "code",
   "execution_count": 10,
   "metadata": {},
   "outputs": [
    {
     "name": "stdout",
     "output_type": "stream",
     "text": [
      "[[[[[[[[[[1 3 4 5]]]]]]]]]]\n",
      "10\n"
     ]
    }
   ],
   "source": [
    "#n Dimentionl array. Number of start brackets is equal to the number of dimensions.\n",
    "# arrn = np.array([[[[[[1,3,4,5]]]]]]) // This is valid but requires too much work. Thus use the line below.\n",
    "arrn = np.array([1,3,4,5], ndmin = 10) # ndmin gives the minimum amout of dimensions of array.\n",
    "print(arrn)\n",
    "print(arrn.ndim)"
   ]
  },
  {
   "cell_type": "code",
   "execution_count": null,
   "metadata": {},
   "outputs": [],
   "source": []
  }
 ],
 "metadata": {
  "kernelspec": {
   "display_name": "Python 3",
   "language": "python",
   "name": "python3"
  },
  "language_info": {
   "codemirror_mode": {
    "name": "ipython",
    "version": 3
   },
   "file_extension": ".py",
   "mimetype": "text/x-python",
   "name": "python",
   "nbconvert_exporter": "python",
   "pygments_lexer": "ipython3",
   "version": "3.12.3"
  }
 },
 "nbformat": 4,
 "nbformat_minor": 2
}
